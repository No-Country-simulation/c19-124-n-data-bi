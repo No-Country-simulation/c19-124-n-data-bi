{
  "cells": [
    {
      "cell_type": "code",
      "execution_count": 37,
      "metadata": {
        "colab": {
          "base_uri": "https://localhost:8080/"
        },
        "id": "0D4yaZgmDNvt",
        "outputId": "09f82091-0318-4ec5-b63c-34526345a13d"
      },
      "outputs": [],
      "source": [
        "# leer el archi csv\n",
        "\n",
        "#from google.colab import drive\n",
        "import pandas as pd\n",
        "#drive.mount('/content/drive')\n",
        "file_path = \"C:/Users/Userr/Desktop/NoCountry/c19-124-n-data-bi/data/Data2.csv\"\n",
        "\n",
        "df = pd.read_csv(file_path)"
      ]
    },
    {
      "cell_type": "code",
      "execution_count": 38,
      "metadata": {
        "colab": {
          "base_uri": "https://localhost:8080/",
          "height": 273
        },
        "id": "JQVtVRL5C0rf",
        "outputId": "70935332-de5d-4d4f-8ede-faa6720a894e"
      },
      "outputs": [
        {
          "data": {
            "text/html": [
              "<div>\n",
              "<style scoped>\n",
              "    .dataframe tbody tr th:only-of-type {\n",
              "        vertical-align: middle;\n",
              "    }\n",
              "\n",
              "    .dataframe tbody tr th {\n",
              "        vertical-align: top;\n",
              "    }\n",
              "\n",
              "    .dataframe thead th {\n",
              "        text-align: right;\n",
              "    }\n",
              "</style>\n",
              "<table border=\"1\" class=\"dataframe\">\n",
              "  <thead>\n",
              "    <tr style=\"text-align: right;\">\n",
              "      <th></th>\n",
              "      <th>Amount</th>\n",
              "      <th>Is_Fraud</th>\n",
              "      <th>IngresoPerCapita</th>\n",
              "      <th>IngresoAnual</th>\n",
              "      <th>DebitoTotal</th>\n",
              "      <th>FICO_Score</th>\n",
              "      <th>Year</th>\n",
              "      <th>Month</th>\n",
              "      <th>Time</th>\n",
              "      <th>LimiteCredito</th>\n",
              "      <th>...</th>\n",
              "      <th>TipoTarjeta_Credit</th>\n",
              "      <th>TipoTarjeta_Debit</th>\n",
              "      <th>TipoTarjeta_Debit (Prepaid)</th>\n",
              "      <th>Dia_Semana_Domingo</th>\n",
              "      <th>Dia_Semana_Jueves</th>\n",
              "      <th>Dia_Semana_Lunes</th>\n",
              "      <th>Dia_Semana_Martes</th>\n",
              "      <th>Dia_Semana_Miércoles</th>\n",
              "      <th>Dia_Semana_Sábado</th>\n",
              "      <th>Dia_Semana_Viernes</th>\n",
              "    </tr>\n",
              "  </thead>\n",
              "  <tbody>\n",
              "    <tr>\n",
              "      <th>0</th>\n",
              "      <td>11473</td>\n",
              "      <td>0</td>\n",
              "      <td>35563</td>\n",
              "      <td>72510</td>\n",
              "      <td>44317</td>\n",
              "      <td>727</td>\n",
              "      <td>1991</td>\n",
              "      <td>1</td>\n",
              "      <td>0.905811</td>\n",
              "      <td>33900</td>\n",
              "      <td>...</td>\n",
              "      <td>1.0</td>\n",
              "      <td>0.0</td>\n",
              "      <td>0.0</td>\n",
              "      <td>0.0</td>\n",
              "      <td>0.0</td>\n",
              "      <td>0.0</td>\n",
              "      <td>0.0</td>\n",
              "      <td>1.0</td>\n",
              "      <td>0.0</td>\n",
              "      <td>0.0</td>\n",
              "    </tr>\n",
              "    <tr>\n",
              "      <th>1</th>\n",
              "      <td>13029</td>\n",
              "      <td>0</td>\n",
              "      <td>35563</td>\n",
              "      <td>72510</td>\n",
              "      <td>44317</td>\n",
              "      <td>727</td>\n",
              "      <td>1991</td>\n",
              "      <td>1</td>\n",
              "      <td>-0.445224</td>\n",
              "      <td>33900</td>\n",
              "      <td>...</td>\n",
              "      <td>1.0</td>\n",
              "      <td>0.0</td>\n",
              "      <td>0.0</td>\n",
              "      <td>0.0</td>\n",
              "      <td>0.0</td>\n",
              "      <td>0.0</td>\n",
              "      <td>1.0</td>\n",
              "      <td>0.0</td>\n",
              "      <td>0.0</td>\n",
              "      <td>0.0</td>\n",
              "    </tr>\n",
              "    <tr>\n",
              "      <th>2</th>\n",
              "      <td>5500</td>\n",
              "      <td>0</td>\n",
              "      <td>35563</td>\n",
              "      <td>72510</td>\n",
              "      <td>44317</td>\n",
              "      <td>727</td>\n",
              "      <td>1991</td>\n",
              "      <td>2</td>\n",
              "      <td>-1.142108</td>\n",
              "      <td>33900</td>\n",
              "      <td>...</td>\n",
              "      <td>1.0</td>\n",
              "      <td>0.0</td>\n",
              "      <td>0.0</td>\n",
              "      <td>1.0</td>\n",
              "      <td>0.0</td>\n",
              "      <td>0.0</td>\n",
              "      <td>0.0</td>\n",
              "      <td>0.0</td>\n",
              "      <td>0.0</td>\n",
              "      <td>0.0</td>\n",
              "    </tr>\n",
              "    <tr>\n",
              "      <th>3</th>\n",
              "      <td>1167</td>\n",
              "      <td>0</td>\n",
              "      <td>35563</td>\n",
              "      <td>72510</td>\n",
              "      <td>44317</td>\n",
              "      <td>727</td>\n",
              "      <td>1991</td>\n",
              "      <td>2</td>\n",
              "      <td>-0.326885</td>\n",
              "      <td>33900</td>\n",
              "      <td>...</td>\n",
              "      <td>1.0</td>\n",
              "      <td>0.0</td>\n",
              "      <td>0.0</td>\n",
              "      <td>0.0</td>\n",
              "      <td>0.0</td>\n",
              "      <td>1.0</td>\n",
              "      <td>0.0</td>\n",
              "      <td>0.0</td>\n",
              "      <td>0.0</td>\n",
              "      <td>0.0</td>\n",
              "    </tr>\n",
              "    <tr>\n",
              "      <th>4</th>\n",
              "      <td>995</td>\n",
              "      <td>0</td>\n",
              "      <td>35563</td>\n",
              "      <td>72510</td>\n",
              "      <td>44317</td>\n",
              "      <td>727</td>\n",
              "      <td>1991</td>\n",
              "      <td>3</td>\n",
              "      <td>1.014288</td>\n",
              "      <td>33900</td>\n",
              "      <td>...</td>\n",
              "      <td>1.0</td>\n",
              "      <td>0.0</td>\n",
              "      <td>0.0</td>\n",
              "      <td>0.0</td>\n",
              "      <td>0.0</td>\n",
              "      <td>0.0</td>\n",
              "      <td>0.0</td>\n",
              "      <td>0.0</td>\n",
              "      <td>1.0</td>\n",
              "      <td>0.0</td>\n",
              "    </tr>\n",
              "  </tbody>\n",
              "</table>\n",
              "<p>5 rows × 32 columns</p>\n",
              "</div>"
            ],
            "text/plain": [
              "   Amount  Is_Fraud  IngresoPerCapita  IngresoAnual  DebitoTotal  FICO_Score  \\\n",
              "0   11473         0             35563         72510        44317         727   \n",
              "1   13029         0             35563         72510        44317         727   \n",
              "2    5500         0             35563         72510        44317         727   \n",
              "3    1167         0             35563         72510        44317         727   \n",
              "4     995         0             35563         72510        44317         727   \n",
              "\n",
              "   Year  Month      Time  LimiteCredito  ...  TipoTarjeta_Credit  \\\n",
              "0  1991      1  0.905811          33900  ...                 1.0   \n",
              "1  1991      1 -0.445224          33900  ...                 1.0   \n",
              "2  1991      2 -1.142108          33900  ...                 1.0   \n",
              "3  1991      2 -0.326885          33900  ...                 1.0   \n",
              "4  1991      3  1.014288          33900  ...                 1.0   \n",
              "\n",
              "   TipoTarjeta_Debit  TipoTarjeta_Debit (Prepaid)  Dia_Semana_Domingo  \\\n",
              "0                0.0                          0.0                 0.0   \n",
              "1                0.0                          0.0                 0.0   \n",
              "2                0.0                          0.0                 1.0   \n",
              "3                0.0                          0.0                 0.0   \n",
              "4                0.0                          0.0                 0.0   \n",
              "\n",
              "   Dia_Semana_Jueves  Dia_Semana_Lunes  Dia_Semana_Martes  \\\n",
              "0                0.0               0.0                0.0   \n",
              "1                0.0               0.0                1.0   \n",
              "2                0.0               0.0                0.0   \n",
              "3                0.0               1.0                0.0   \n",
              "4                0.0               0.0                0.0   \n",
              "\n",
              "   Dia_Semana_Miércoles  Dia_Semana_Sábado  Dia_Semana_Viernes  \n",
              "0                   1.0                0.0                 0.0  \n",
              "1                   0.0                0.0                 0.0  \n",
              "2                   0.0                0.0                 0.0  \n",
              "3                   0.0                0.0                 0.0  \n",
              "4                   0.0                1.0                 0.0  \n",
              "\n",
              "[5 rows x 32 columns]"
            ]
          },
          "execution_count": 38,
          "metadata": {},
          "output_type": "execute_result"
        }
      ],
      "source": [
        "df.head(5)"
      ]
    },
    {
      "cell_type": "code",
      "execution_count": 39,
      "metadata": {
        "id": "SLSl7UQUIXTv"
      },
      "outputs": [],
      "source": [
        "from sklearn.model_selection import train_test_split\n",
        "from sklearn.ensemble import RandomForestClassifier\n",
        "from sklearn.metrics import classification_report, confusion_matrix\n",
        "from imblearn.over_sampling import SMOTE"
      ]
    },
    {
      "cell_type": "code",
      "execution_count": 41,
      "metadata": {
        "id": "6SfFwBW1IXWW"
      },
      "outputs": [],
      "source": [
        "# Cargar datos\n",
        "X = df.drop('Is_Fraud', axis=1)\n",
        "y = df['Is_Fraud']\n"
      ]
    },
    {
      "cell_type": "code",
      "execution_count": null,
      "metadata": {
        "id": "ZyDwR_STIXZJ"
      },
      "outputs": [],
      "source": [
        "# Dividir los datos en conjuntos de entrenamiento y prueba\n",
        "X_train, X_test, y_train, y_test = train_test_split(X, y, test_size=0.3, random_state=42, stratify=y)"
      ]
    },
    {
      "cell_type": "code",
      "execution_count": null,
      "metadata": {
        "id": "3YHcXCqRIXb4"
      },
      "outputs": [],
      "source": [
        "# Aplicar SMOTE para sobremuestreo de la clase minoritaria\n",
        "smote = SMOTE(random_state=42)\n",
        "X_train_sm, y_train_sm = smote.fit_resample(X_train, y_train)"
      ]
    },
    {
      "cell_type": "code",
      "execution_count": null,
      "metadata": {
        "colab": {
          "base_uri": "https://localhost:8080/",
          "height": 74
        },
        "id": "lHbBIxiUIXee",
        "outputId": "42d5d5b6-b5cd-4146-fafa-5f00ed1ae772"
      },
      "outputs": [
        {
          "data": {
            "text/html": [
              "<style>#sk-container-id-2 {color: black;}#sk-container-id-2 pre{padding: 0;}#sk-container-id-2 div.sk-toggleable {background-color: white;}#sk-container-id-2 label.sk-toggleable__label {cursor: pointer;display: block;width: 100%;margin-bottom: 0;padding: 0.3em;box-sizing: border-box;text-align: center;}#sk-container-id-2 label.sk-toggleable__label-arrow:before {content: \"▸\";float: left;margin-right: 0.25em;color: #696969;}#sk-container-id-2 label.sk-toggleable__label-arrow:hover:before {color: black;}#sk-container-id-2 div.sk-estimator:hover label.sk-toggleable__label-arrow:before {color: black;}#sk-container-id-2 div.sk-toggleable__content {max-height: 0;max-width: 0;overflow: hidden;text-align: left;background-color: #f0f8ff;}#sk-container-id-2 div.sk-toggleable__content pre {margin: 0.2em;color: black;border-radius: 0.25em;background-color: #f0f8ff;}#sk-container-id-2 input.sk-toggleable__control:checked~div.sk-toggleable__content {max-height: 200px;max-width: 100%;overflow: auto;}#sk-container-id-2 input.sk-toggleable__control:checked~label.sk-toggleable__label-arrow:before {content: \"▾\";}#sk-container-id-2 div.sk-estimator input.sk-toggleable__control:checked~label.sk-toggleable__label {background-color: #d4ebff;}#sk-container-id-2 div.sk-label input.sk-toggleable__control:checked~label.sk-toggleable__label {background-color: #d4ebff;}#sk-container-id-2 input.sk-hidden--visually {border: 0;clip: rect(1px 1px 1px 1px);clip: rect(1px, 1px, 1px, 1px);height: 1px;margin: -1px;overflow: hidden;padding: 0;position: absolute;width: 1px;}#sk-container-id-2 div.sk-estimator {font-family: monospace;background-color: #f0f8ff;border: 1px dotted black;border-radius: 0.25em;box-sizing: border-box;margin-bottom: 0.5em;}#sk-container-id-2 div.sk-estimator:hover {background-color: #d4ebff;}#sk-container-id-2 div.sk-parallel-item::after {content: \"\";width: 100%;border-bottom: 1px solid gray;flex-grow: 1;}#sk-container-id-2 div.sk-label:hover label.sk-toggleable__label {background-color: #d4ebff;}#sk-container-id-2 div.sk-serial::before {content: \"\";position: absolute;border-left: 1px solid gray;box-sizing: border-box;top: 0;bottom: 0;left: 50%;z-index: 0;}#sk-container-id-2 div.sk-serial {display: flex;flex-direction: column;align-items: center;background-color: white;padding-right: 0.2em;padding-left: 0.2em;position: relative;}#sk-container-id-2 div.sk-item {position: relative;z-index: 1;}#sk-container-id-2 div.sk-parallel {display: flex;align-items: stretch;justify-content: center;background-color: white;position: relative;}#sk-container-id-2 div.sk-item::before, #sk-container-id-2 div.sk-parallel-item::before {content: \"\";position: absolute;border-left: 1px solid gray;box-sizing: border-box;top: 0;bottom: 0;left: 50%;z-index: -1;}#sk-container-id-2 div.sk-parallel-item {display: flex;flex-direction: column;z-index: 1;position: relative;background-color: white;}#sk-container-id-2 div.sk-parallel-item:first-child::after {align-self: flex-end;width: 50%;}#sk-container-id-2 div.sk-parallel-item:last-child::after {align-self: flex-start;width: 50%;}#sk-container-id-2 div.sk-parallel-item:only-child::after {width: 0;}#sk-container-id-2 div.sk-dashed-wrapped {border: 1px dashed gray;margin: 0 0.4em 0.5em 0.4em;box-sizing: border-box;padding-bottom: 0.4em;background-color: white;}#sk-container-id-2 div.sk-label label {font-family: monospace;font-weight: bold;display: inline-block;line-height: 1.2em;}#sk-container-id-2 div.sk-label-container {text-align: center;}#sk-container-id-2 div.sk-container {/* jupyter's `normalize.less` sets `[hidden] { display: none; }` but bootstrap.min.css set `[hidden] { display: none !important; }` so we also need the `!important` here to be able to override the default hidden behavior on the sphinx rendered scikit-learn.org. See: https://github.com/scikit-learn/scikit-learn/issues/21755 */display: inline-block !important;position: relative;}#sk-container-id-2 div.sk-text-repr-fallback {display: none;}</style><div id=\"sk-container-id-2\" class=\"sk-top-container\"><div class=\"sk-text-repr-fallback\"><pre>RandomForestClassifier(class_weight=&#x27;balanced&#x27;, random_state=42)</pre><b>In a Jupyter environment, please rerun this cell to show the HTML representation or trust the notebook. <br />On GitHub, the HTML representation is unable to render, please try loading this page with nbviewer.org.</b></div><div class=\"sk-container\" hidden><div class=\"sk-item\"><div class=\"sk-estimator sk-toggleable\"><input class=\"sk-toggleable__control sk-hidden--visually\" id=\"sk-estimator-id-2\" type=\"checkbox\" checked><label for=\"sk-estimator-id-2\" class=\"sk-toggleable__label sk-toggleable__label-arrow\">RandomForestClassifier</label><div class=\"sk-toggleable__content\"><pre>RandomForestClassifier(class_weight=&#x27;balanced&#x27;, random_state=42)</pre></div></div></div></div></div>"
            ],
            "text/plain": [
              "RandomForestClassifier(class_weight='balanced', random_state=42)"
            ]
          },
          "execution_count": 16,
          "metadata": {},
          "output_type": "execute_result"
        }
      ],
      "source": [
        "# Entrenar un modelo de Random Forest\n",
        "RdForest = RandomForestClassifier(n_estimators=100, random_state=42, class_weight='balanced')\n",
        "RdForest.fit(X_train_sm, y_train_sm)"
      ]
    },
    {
      "cell_type": "code",
      "execution_count": null,
      "metadata": {
        "id": "uGvwTAgJIXhn"
      },
      "outputs": [],
      "source": [
        "# Predecir en el conjunto de prueba\n",
        "y_pred = RdForest.predict(X_test)"
      ]
    },
    {
      "cell_type": "code",
      "execution_count": null,
      "metadata": {
        "colab": {
          "base_uri": "https://localhost:8080/"
        },
        "id": "PVELnUWkPYlz",
        "outputId": "e4b58ea1-1c31-4b9d-c0e3-e81f3253edf7"
      },
      "outputs": [
        {
          "name": "stdout",
          "output_type": "stream",
          "text": [
            "[[568767     14]\n",
            " [   713      7]]\n",
            "              precision    recall  f1-score   support\n",
            "\n",
            "           0       1.00      1.00      1.00    568781\n",
            "           1       0.33      0.01      0.02       720\n",
            "\n",
            "    accuracy                           1.00    569501\n",
            "   macro avg       0.67      0.50      0.51    569501\n",
            "weighted avg       1.00      1.00      1.00    569501\n",
            "\n"
          ]
        }
      ],
      "source": [
        "# Evaluar el modelo\n",
        "print(confusion_matrix(y_test, y_pred))\n",
        "print(classification_report(y_test, y_pred))"
      ]
    },
    {
      "cell_type": "code",
      "execution_count": null,
      "metadata": {
        "colab": {
          "base_uri": "https://localhost:8080/"
        },
        "id": "siIFXlWISkDw",
        "outputId": "0aadaab2-178e-4121-9389-5f80e391bb43"
      },
      "outputs": [
        {
          "name": "stdout",
          "output_type": "stream",
          "text": [
            "Error porcentual : 0.127656\n",
            "Exactitud: 0.9987234438569906\n"
          ]
        }
      ],
      "source": [
        "# Identificando el procentual de error\n",
        "from sklearn import metrics\n",
        "from sklearn.metrics import mean_squared_error\n",
        "\n",
        "error = mean_squared_error(y_test, y_pred)\n",
        "print(\"Error porcentual : %f\" % (error*100))\n",
        "print(\"Exactitud:\",metrics.accuracy_score(y_test, y_pred))"
      ]
    },
    {
      "cell_type": "code",
      "execution_count": null,
      "metadata": {
        "id": "ZtRTe7rsPic-"
      },
      "outputs": [],
      "source": [
        "#poner a prueba el modelo clf\n",
        "\n",
        "\n",
        "DatosPrueba = pd.read_csv('/content/drive/MyDrive/Colab Notebooks/Proyecto Detección de Fraude/DatosVerificacion.csv')"
      ]
    },
    {
      "cell_type": "code",
      "execution_count": null,
      "metadata": {
        "id": "nJTyoU5WQNsT"
      },
      "outputs": [],
      "source": [
        "XPrueba = DatosPrueba.drop('Is_Fraud', axis=1)\n",
        "yPrueba = DatosPrueba['Is_Fraud']\n"
      ]
    },
    {
      "cell_type": "code",
      "execution_count": null,
      "metadata": {
        "id": "jDeROW1tSUj3"
      },
      "outputs": [],
      "source": [
        "Prediccion = RdForest.predict(XPrueba)"
      ]
    },
    {
      "cell_type": "code",
      "execution_count": null,
      "metadata": {
        "colab": {
          "base_uri": "https://localhost:8080/"
        },
        "id": "DPMH-omRQLuL",
        "outputId": "40212791-1513-4c34-b107-f75a612e85c7"
      },
      "outputs": [
        {
          "data": {
            "text/plain": [
              "array([0, 0, 0, 0, 0, 0, 0, 0, 0, 0])"
            ]
          },
          "execution_count": 25,
          "metadata": {},
          "output_type": "execute_result"
        }
      ],
      "source": [
        "Prediccion"
      ]
    }
  ],
  "metadata": {
    "colab": {
      "provenance": []
    },
    "kernelspec": {
      "display_name": "Python 3",
      "name": "python3"
    },
    "language_info": {
      "codemirror_mode": {
        "name": "ipython",
        "version": 3
      },
      "file_extension": ".py",
      "mimetype": "text/x-python",
      "name": "python",
      "nbconvert_exporter": "python",
      "pygments_lexer": "ipython3",
      "version": "3.10.1"
    }
  },
  "nbformat": 4,
  "nbformat_minor": 0
}
