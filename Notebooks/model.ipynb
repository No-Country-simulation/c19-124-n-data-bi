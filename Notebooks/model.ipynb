{
 "cells": [
  {
   "cell_type": "code",
   "execution_count": 157,
   "metadata": {},
   "outputs": [],
   "source": [
    "from sklearn.metrics import confusion_matrix\n",
    "from sklearn.metrics import classification_report\n",
    "from sklearn.model_selection import train_test_split\n",
    "from sklearn.linear_model import LogisticRegression\n",
    "from sklearn.decomposition import PCA\n",
    "from sklearn.tree import DecisionTreeClassifier"
   ]
  },
  {
   "cell_type": "code",
   "execution_count": 134,
   "metadata": {},
   "outputs": [
    {
     "name": "stderr",
     "output_type": "stream",
     "text": [
      "C:\\Users\\sergi\\AppData\\Local\\Temp\\ipykernel_5860\\1059325609.py:11: DtypeWarning: Columns (8,9,10,11) have mixed types. Specify dtype option on import or set low_memory=False.\n",
      "  data = pd.read_csv(f\"{RUTA}/data/df_listo.csv\", encoding='latin1', sep=',', on_bad_lines='skip')\n"
     ]
    },
    {
     "data": {
      "text/plain": [
       "(1984473, 35)"
      ]
     },
     "execution_count": 134,
     "metadata": {},
     "output_type": "execute_result"
    }
   ],
   "source": [
    "#imports\n",
    "import pathlib\n",
    "import pandas as pd\n",
    "import seaborn as sns\n",
    "import matplotlib.pyplot as plt\n",
    "import numpy as np\n",
    "\n",
    "\n",
    "RUTA = pathlib.Path(__vsc_ipynb_file__).parent.parent # type: ignore\n",
    "\n",
    "data = pd.read_csv(f\"{RUTA}/data/df_listo.csv\", encoding='latin1', sep=',', on_bad_lines='skip')\n",
    "data.shape"
   ]
  },
  {
   "cell_type": "code",
   "execution_count": 141,
   "metadata": {},
   "outputs": [
    {
     "name": "stdout",
     "output_type": "stream",
     "text": [
      "*************************************************\n",
      "\n",
      "Valores dupllicados: 163651\n",
      "\n",
      "*************************************************\n",
      "\n",
      "Valores nulos: \n",
      "\n",
      "Amount                         163955\n",
      "Is_Fraud                       163955\n",
      "IngresoPerCapita               163955\n",
      "IngresoAnual                   163955\n",
      "DebitoTotal                    163955\n",
      "FICO_Score                     163955\n",
      "Year                           163955\n",
      "Month                          163955\n",
      "Dia_Semana                     163955\n",
      "Time                           163955\n",
      "BancoCredito                   163955\n",
      "TipoTarjeta                    163955\n",
      "LimiteCredito                  163955\n",
      "Errors_Bad CVV                 163955\n",
      "Errors_Bad Card Number         163955\n",
      "Errors_Bad Expiration          163955\n",
      "Errors_Bad PIN                 163955\n",
      "Errors_Bad Zipcode             163955\n",
      "Errors_Insufficient Balance    163955\n",
      "Errors_SIN ERROR               163955\n",
      "Errors_Technical Glitch        163955\n",
      "Dia_Semana_Domingo             163955\n",
      "Dia_Semana_Jueves              163955\n",
      "Dia_Semana_Lunes               163955\n",
      "Dia_Semana_Martes              163955\n",
      "Dia_Semana_MiÃ©rcoles          163955\n",
      "Dia_Semana_SÃ¡bado             163955\n",
      "Dia_Semana_Viernes             163955\n",
      "BancoCredito_Amex              163955\n",
      "BancoCredito_Discover          163955\n",
      "BancoCredito_Mastercard        163955\n",
      "BancoCredito_Visa              163955\n",
      "TipoTarjeta_Credit             163955\n",
      "TipoTarjeta_Debit              163955\n",
      "TipoTarjeta_Debit (Prepaid)    163955\n",
      "dtype: int64\n",
      "*************************************************\n",
      "\n",
      "<class 'pandas.core.frame.DataFrame'>\n",
      "RangeIndex: 1984473 entries, 0 to 1984472\n",
      "Data columns (total 35 columns):\n",
      " #   Column                       Dtype  \n",
      "---  ------                       -----  \n",
      " 0   Amount                       float64\n",
      " 1   Is_Fraud                     float64\n",
      " 2   IngresoPerCapita             float64\n",
      " 3   IngresoAnual                 float64\n",
      " 4   DebitoTotal                  float64\n",
      " 5   FICO_Score                   float64\n",
      " 6   Year                         float64\n",
      " 7   Month                        float64\n",
      " 8   Dia_Semana                   object \n",
      " 9   Time                         object \n",
      " 10  BancoCredito                 object \n",
      " 11  TipoTarjeta                  object \n",
      " 12  LimiteCredito                float64\n",
      " 13  Errors_Bad CVV               float64\n",
      " 14  Errors_Bad Card Number       float64\n",
      " 15  Errors_Bad Expiration        float64\n",
      " 16  Errors_Bad PIN               float64\n",
      " 17  Errors_Bad Zipcode           float64\n",
      " 18  Errors_Insufficient Balance  float64\n",
      " 19  Errors_SIN ERROR             float64\n",
      " 20  Errors_Technical Glitch      float64\n",
      " 21  Dia_Semana_Domingo           float64\n",
      " 22  Dia_Semana_Jueves            float64\n",
      " 23  Dia_Semana_Lunes             float64\n",
      " 24  Dia_Semana_Martes            float64\n",
      " 25  Dia_Semana_MiÃ©rcoles        float64\n",
      " 26  Dia_Semana_SÃ¡bado           float64\n",
      " 27  Dia_Semana_Viernes           float64\n",
      " 28  BancoCredito_Amex            float64\n",
      " 29  BancoCredito_Discover        float64\n",
      " 30  BancoCredito_Mastercard      float64\n",
      " 31  BancoCredito_Visa            float64\n",
      " 32  TipoTarjeta_Credit           float64\n",
      " 33  TipoTarjeta_Debit            float64\n",
      " 34  TipoTarjeta_Debit (Prepaid)  float64\n",
      "dtypes: float64(31), object(4)\n",
      "memory usage: 529.9+ MB\n",
      "None\n"
     ]
    }
   ],
   "source": [
    "print(\"*************************************************\\n\")\n",
    "\n",
    "print(f\"Valores dupllicados: {data.duplicated().sum()}\\n\")\n",
    "print(\"*************************************************\\n\")\n",
    "\n",
    "print(\"Valores nulos: \\n\")\n",
    "print(data.isnull().sum())\n",
    "\n",
    "print(\"*************************************************\\n\")\n",
    "print(data.info())"
   ]
  },
  {
   "cell_type": "markdown",
   "metadata": {},
   "source": [
    "Elegir columnas de interés\n"
   ]
  },
  {
   "cell_type": "code",
   "execution_count": 128,
   "metadata": {},
   "outputs": [],
   "source": [
    "new_data = data.drop(columns=['Dia_Semana','Time','BancoCredito','TipoTarjeta'])"
   ]
  },
  {
   "cell_type": "code",
   "execution_count": 129,
   "metadata": {},
   "outputs": [
    {
     "name": "stdout",
     "output_type": "stream",
     "text": [
      "(1984473, 31)\n",
      "Is_Fraud\n",
      "0.0    1818662\n",
      "1.0       1856\n",
      "Name: count, dtype: int64\n"
     ]
    }
   ],
   "source": [
    "print(new_data.shape)\n",
    "print(pd.Series(new_data['Is_Fraud']).value_counts())"
   ]
  },
  {
   "cell_type": "code",
   "execution_count": 143,
   "metadata": {},
   "outputs": [],
   "source": [
    "new_data = new_data.dropna()"
   ]
  },
  {
   "cell_type": "code",
   "execution_count": 153,
   "metadata": {},
   "outputs": [
    {
     "name": "stdout",
     "output_type": "stream",
     "text": [
      "*************************************************\n",
      "\n",
      "Valores duplicados: 0\n",
      "\n",
      "*************************************************\n",
      "\n",
      "Valores nulos: \n",
      "\n",
      "Amount                         0\n",
      "Is_Fraud                       0\n",
      "IngresoPerCapita               0\n",
      "IngresoAnual                   0\n",
      "DebitoTotal                    0\n",
      "FICO_Score                     0\n",
      "Year                           0\n",
      "Month                          0\n",
      "LimiteCredito                  0\n",
      "Errors_Bad CVV                 0\n",
      "Errors_Bad Card Number         0\n",
      "Errors_Bad Expiration          0\n",
      "Errors_Bad PIN                 0\n",
      "Errors_Bad Zipcode             0\n",
      "Errors_Insufficient Balance    0\n",
      "Errors_SIN ERROR               0\n",
      "Errors_Technical Glitch        0\n",
      "Dia_Semana_Domingo             0\n",
      "Dia_Semana_Jueves              0\n",
      "Dia_Semana_Lunes               0\n",
      "Dia_Semana_Martes              0\n",
      "Dia_Semana_MiÃ©rcoles          0\n",
      "Dia_Semana_SÃ¡bado             0\n",
      "Dia_Semana_Viernes             0\n",
      "BancoCredito_Amex              0\n",
      "BancoCredito_Discover          0\n",
      "BancoCredito_Mastercard        0\n",
      "BancoCredito_Visa              0\n",
      "TipoTarjeta_Credit             0\n",
      "TipoTarjeta_Debit              0\n",
      "TipoTarjeta_Debit (Prepaid)    0\n",
      "dtype: int64\n"
     ]
    }
   ],
   "source": [
    "print(\"*************************************************\\n\")\n",
    "\n",
    "print(f\"Valores duplicados: {new_data.duplicated().sum()}\\n\")\n",
    "print(\"*************************************************\\n\")\n",
    "\n",
    "print(\"Valores nulos: \\n\")\n",
    "print(new_data.isnull().sum())"
   ]
  },
  {
   "cell_type": "code",
   "execution_count": 152,
   "metadata": {},
   "outputs": [
    {
     "data": {
      "text/html": [
       "<div>\n",
       "<style scoped>\n",
       "    .dataframe tbody tr th:only-of-type {\n",
       "        vertical-align: middle;\n",
       "    }\n",
       "\n",
       "    .dataframe tbody tr th {\n",
       "        vertical-align: top;\n",
       "    }\n",
       "\n",
       "    .dataframe thead th {\n",
       "        text-align: right;\n",
       "    }\n",
       "</style>\n",
       "<table border=\"1\" class=\"dataframe\">\n",
       "  <thead>\n",
       "    <tr style=\"text-align: right;\">\n",
       "      <th></th>\n",
       "      <th>Amount</th>\n",
       "      <th>Is_Fraud</th>\n",
       "      <th>IngresoPerCapita</th>\n",
       "      <th>IngresoAnual</th>\n",
       "      <th>DebitoTotal</th>\n",
       "      <th>FICO_Score</th>\n",
       "      <th>Year</th>\n",
       "      <th>Month</th>\n",
       "      <th>LimiteCredito</th>\n",
       "      <th>Errors_Bad CVV</th>\n",
       "      <th>...</th>\n",
       "      <th>Dia_Semana_MiÃ©rcoles</th>\n",
       "      <th>Dia_Semana_SÃ¡bado</th>\n",
       "      <th>Dia_Semana_Viernes</th>\n",
       "      <th>BancoCredito_Amex</th>\n",
       "      <th>BancoCredito_Discover</th>\n",
       "      <th>BancoCredito_Mastercard</th>\n",
       "      <th>BancoCredito_Visa</th>\n",
       "      <th>TipoTarjeta_Credit</th>\n",
       "      <th>TipoTarjeta_Debit</th>\n",
       "      <th>TipoTarjeta_Debit (Prepaid)</th>\n",
       "    </tr>\n",
       "  </thead>\n",
       "  <tbody>\n",
       "  </tbody>\n",
       "</table>\n",
       "<p>0 rows × 31 columns</p>\n",
       "</div>"
      ],
      "text/plain": [
       "Empty DataFrame\n",
       "Columns: [Amount, Is_Fraud, IngresoPerCapita, IngresoAnual, DebitoTotal, FICO_Score, Year, Month, LimiteCredito, Errors_Bad CVV, Errors_Bad Card Number, Errors_Bad Expiration, Errors_Bad PIN, Errors_Bad Zipcode, Errors_Insufficient Balance, Errors_SIN ERROR, Errors_Technical Glitch, Dia_Semana_Domingo, Dia_Semana_Jueves, Dia_Semana_Lunes, Dia_Semana_Martes, Dia_Semana_MiÃ©rcoles, Dia_Semana_SÃ¡bado, Dia_Semana_Viernes, BancoCredito_Amex, BancoCredito_Discover, BancoCredito_Mastercard, BancoCredito_Visa, TipoTarjeta_Credit, TipoTarjeta_Debit, TipoTarjeta_Debit (Prepaid)]\n",
       "Index: []\n",
       "\n",
       "[0 rows x 31 columns]"
      ]
     },
     "execution_count": 152,
     "metadata": {},
     "output_type": "execute_result"
    }
   ],
   "source": [
    "new_data[new_data.duplicated()]"
   ]
  },
  {
   "cell_type": "code",
   "execution_count": 151,
   "metadata": {},
   "outputs": [],
   "source": [
    "new_data=new_data.drop_duplicates(keep=\"first\")"
   ]
  },
  {
   "cell_type": "code",
   "execution_count": 154,
   "metadata": {},
   "outputs": [
    {
     "data": {
      "text/plain": [
       "array([0., 1.])"
      ]
     },
     "execution_count": 154,
     "metadata": {},
     "output_type": "execute_result"
    }
   ],
   "source": [
    "pd.Series(new_data['Is_Fraud']).unique()"
   ]
  },
  {
   "cell_type": "code",
   "execution_count": 156,
   "metadata": {},
   "outputs": [
    {
     "data": {
      "image/png": "[encoded data removed]",
      "text/plain": [
       "<Figure size 640x480 with 1 Axes>"
      ]
     },
     "metadata": {},
     "output_type": "display_data"
    }
   ],
   "source": [
    "count_classes = pd.Series(new_data['Is_Fraud']).value_counts()\n",
    "count_classes.plot(kind = 'bar', rot=0)\n",
    "plt.xticks(pd.Series(new_data['Is_Fraud']).unique(),labels=['normal', 'fraude'])\n",
    "plt.title(\"Frecuencia de observaciones\")\n",
    "plt.xlabel(\"Clase\")\n",
    "plt.ylabel(\"numero de observaciones\");"
   ]
  },
  {
   "cell_type": "markdown",
   "metadata": {},
   "source": [
    "Modelo\n"
   ]
  },
  {
   "cell_type": "code",
   "execution_count": 159,
   "metadata": {},
   "outputs": [],
   "source": [
    "#definimos nuestras etiquetas y features\n",
    "y = new_data['Is_Fraud']\n",
    "X = new_data.drop('Is_Fraud', axis=1)"
   ]
  },
  {
   "cell_type": "code",
   "execution_count": 160,
   "metadata": {},
   "outputs": [],
   "source": [
    "#dividimos en sets de entrenamiento y test\n",
    "X_train, X_test, y_train, y_test = train_test_split(X, y, train_size=0.7)"
   ]
  },
  {
   "cell_type": "code",
   "execution_count": 167,
   "metadata": {},
   "outputs": [
    {
     "data": {
      "image/png": "[encoded data removed]",
      "text/plain": [
       "<Figure size 1200x1200 with 2 Axes>"
      ]
     },
     "metadata": {},
     "output_type": "display_data"
    },
    {
     "name": "stdout",
     "output_type": "stream",
     "text": [
      "              precision    recall  f1-score   support\n",
      "\n",
      "         0.0       1.00      1.00      1.00    496242\n",
      "         1.0       1.00      0.00      0.00       520\n",
      "\n",
      "    accuracy                           1.00    496762\n",
      "   macro avg       1.00      0.50      0.50    496762\n",
      "weighted avg       1.00      1.00      1.00    496762\n",
      "\n"
     ]
    }
   ],
   "source": [
    "def run_model(X_train, X_test, y_train, y_test):\n",
    "    clf_base = LogisticRegression(C=1.0,penalty='l2',random_state=1,solver=\"newton-cg\")\n",
    "    clf_base.fit(X_train, y_train)\n",
    "    return clf_base\n",
    " \n",
    "#ejecutamos el modelo \"tal cual\"\n",
    "model = run_model(X_train, X_test, y_train, y_test)\n",
    " \n",
    "#definimos funciona para mostrar los resultados\n",
    "def mostrar_resultados(y_test, pred_y):\n",
    "    conf_matrix = confusion_matrix(y_test, pred_y)\n",
    "    plt.figure(figsize=(12, 12))\n",
    "    sns.heatmap(conf_matrix, xticklabels=['normal', 'fraude'], yticklabels=['normal', 'fraude'], annot=True, fmt=\"d\");\n",
    "    plt.title(\"Confusion matrix\")\n",
    "    plt.ylabel('True class')\n",
    "    plt.xlabel('Predicted class')\n",
    "    plt.show()\n",
    "    print (classification_report(y_test, pred_y,zero_division=1))\n",
    " \n",
    "pred_y = model.predict(X_test)\n",
    "mostrar_resultados(y_test, pred_y)"
   ]
  }
 ],
 "metadata": {
  "kernelspec": {
   "display_name": "Python 3",
   "language": "python",
   "name": "python3"
  },
  "language_info": {
   "codemirror_mode": {
    "name": "ipython",
    "version": 3
   },
   "file_extension": ".py",
   "mimetype": "text/x-python",
   "name": "python",
   "nbconvert_exporter": "python",
   "pygments_lexer": "ipython3",
   "version": "3.12.2"
  }
 },
 "nbformat": 4,
 "nbformat_minor": 2
}
