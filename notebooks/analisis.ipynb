{
 "cells": [
  {
   "cell_type": "markdown",
   "metadata": {},
   "source": [
    "# Explorando los datos"
   ]
  },
  {
   "cell_type": "code",
   "execution_count": 2,
   "metadata": {},
   "outputs": [],
   "source": [
    "#imports\n",
    "import pathlib\n",
    "import pandas as pd\n",
    "RUTA = pathlib.Path(__vsc_ipynb_file__).parent.parent # type: ignore\n",
    "\n",
    "data1 = pd.read_csv(f\"{RUTA}/data/Fraudulent_E-Commerce_Transaction_Data.csv\")\n",
    "data2 = pd.read_csv(f\"{RUTA}/data/Fraudulent_E-Commerce_Transaction_Data_2.csv\")"
   ]
  },
  {
   "cell_type": "markdown",
   "metadata": {},
   "source": [
    "## Previsualizando datos"
   ]
  },
  {
   "cell_type": "code",
   "execution_count": 34,
   "metadata": {},
   "outputs": [
    {
     "data": {
      "text/plain": [
       "(1472952, 16)"
      ]
     },
     "execution_count": 34,
     "metadata": {},
     "output_type": "execute_result"
    }
   ],
   "source": [
    "#data1.head(2)\n",
    "#data1.isnull().sum()\n",
    "#data1.shape\n",
    "#data1.info()\n",
    "#data1.describe().T\n",
    "#data1.duplicated().sum()\n",
    "#data1.duplicated().sum()"
   ]
  },
  {
   "cell_type": "code",
   "execution_count": 3,
   "metadata": {},
   "outputs": [
    {
     "data": {
      "text/plain": [
       "0"
      ]
     },
     "execution_count": 3,
     "metadata": {},
     "output_type": "execute_result"
    }
   ],
   "source": [
    "#data2.head(2)\n",
    "#data2.isnull().sum()\n",
    "#data2.shape\n",
    "#data2.info()\n",
    "#data2.describe().T\n",
    "#data2.duplicated().sum()\n",
    "#data2.duplicated().sum()"
   ]
  }
 ],
 "metadata": {
  "kernelspec": {
   "display_name": "Python 3",
   "language": "python",
   "name": "python3"
  },
  "language_info": {
   "codemirror_mode": {
    "name": "ipython",
    "version": 3
   },
   "file_extension": ".py",
   "mimetype": "text/x-python",
   "name": "python",
   "nbconvert_exporter": "python",
   "pygments_lexer": "ipython3",
   "version": "3.12.2"
  }
 },
 "nbformat": 4,
 "nbformat_minor": 2
}
